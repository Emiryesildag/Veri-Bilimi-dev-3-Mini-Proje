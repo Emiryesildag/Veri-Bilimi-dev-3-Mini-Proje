{
 "cells": [
  {
   "cell_type": "markdown",
   "id": "bfbeb061-30a5-4236-aca7-35661b5cbb5c",
   "metadata": {},
   "source": [
    "Soru 1 – Liste Metotları\n",
    "Bir sınıfta öğrencilerin notları şu şekilde tutuluyor:\n",
    "notlar = [85, 92, 76, 92, 100, 76, 85, 92]\n",
    "• Listedeki tekrar eden notları silip benzersiz bir liste oluşturun.\n",
    "• En yüksek ve en düşük notu bulun.\n",
    "• Notları küçükten büyüğe sıralayın"
   ]
  },
  {
   "cell_type": "code",
   "execution_count": 30,
   "id": "1d50de94-41c3-4531-9ba7-d4a0a88a10f2",
   "metadata": {},
   "outputs": [
    {
     "name": "stdout",
     "output_type": "stream",
     "text": [
      "[100, 76, 85, 92]\n",
      "100\n",
      "76\n",
      "[76, 85, 92, 100]\n"
     ]
    }
   ],
   "source": [
    "#Cevap 1 (kendi cevabım)\n",
    "notlar = [85, 92, 76, 92, 100, 76, 85, 92]\n",
    "for i in range(len(notlar)-1,-1,-1):\n",
    "    for j in range(len(notlar)-1,-1,-1):\n",
    "        if i!=j:\n",
    "            if notlar[i]==notlar[j]:\n",
    "                notlar.pop(j)\n",
    "                break\n",
    "print(notlar)\n",
    "print(max(notlar))\n",
    "print(min(notlar))\n",
    "notlar.sort()\n",
    "print(notlar)\n",
    "\n",
    "        "
   ]
  },
  {
   "cell_type": "code",
   "execution_count": 35,
   "id": "6805fdc8-0db3-4729-8fad-9465189e997c",
   "metadata": {},
   "outputs": [
    {
     "name": "stdout",
     "output_type": "stream",
     "text": [
      "[100, 92, 85, 76]\n",
      "100\n",
      "76\n",
      "[76, 85, 92, 100]\n"
     ]
    }
   ],
   "source": [
    "#Cevap 2\n",
    "notlar = [85, 92, 76, 92, 100, 76, 85, 92]\n",
    "set_notlar = list(set(notlar))\n",
    "print(set_notlar)\n",
    "print(max(set_notlar))\n",
    "print(min(set_notlar))\n",
    "set_notlar.sort()\n",
    "print(set_notlar)"
   ]
  },
  {
   "cell_type": "code",
   "execution_count": 44,
   "id": "4ead8608-3c25-41b1-8f1d-5e454445e938",
   "metadata": {},
   "outputs": [
    {
     "name": "stdout",
     "output_type": "stream",
     "text": [
      "[76, 85, 92, 100]\n"
     ]
    }
   ],
   "source": [
    "#Cevap 3\n",
    "notlar = [85, 92, 76, 92, 100, 76, 85, 92]\n",
    "benzersiz=[]\n",
    "list_comp_notlar = [benzersiz.append(i) for i in notlar if i not in benzersiz ]\n",
    "benzersiz.sort()\n",
    "print(benzersiz)"
   ]
  },
  {
   "cell_type": "markdown",
   "id": "751d5aa7-fe79-429d-97a6-0f5283159df3",
   "metadata": {},
   "source": [
    "Soru 2 – Sayılar\n",
    "Bir sayının Armstrong sayısı olup olmadığını kontrol eden bir Python fonksiyonu yazın.\n",
    "Armstrong sayısı: Her basamağının küplerinin toplamı kendisine eşit olan sayılar.\n",
    "Örn: 153 → 1³+5³+3³ = 153\n",
    "\n"
   ]
  },
  {
   "cell_type": "code",
   "execution_count": 12,
   "id": "3ed87440-0588-4fd6-8071-0f0a9f69a84b",
   "metadata": {},
   "outputs": [],
   "source": [
    " def armstrong_check(x):\n",
    "    sayi = str(x)\n",
    "    armstrong_flag = 0\n",
    "    for i in sayi:\n",
    "        armstrong_flag += int(i)**3 \n",
    "    if armstrong_flag == x:\n",
    "        return True\n",
    "    else:\n",
    "        return False"
   ]
  },
  {
   "cell_type": "code",
   "execution_count": 13,
   "id": "f255387a-7657-46c0-a3e5-1a78f692bba2",
   "metadata": {},
   "outputs": [
    {
     "data": {
      "text/plain": [
       "True"
      ]
     },
     "execution_count": 13,
     "metadata": {},
     "output_type": "execute_result"
    }
   ],
   "source": [
    "armstrong_check(153)"
   ]
  },
  {
   "cell_type": "markdown",
   "id": "7fc4b411-c3b5-4a2c-a6f7-eacff58e59d1",
   "metadata": {},
   "source": [
    "Soru 3 – Kümeler\n",
    "Aşağıdaki iki küme verilmiştir:\n",
    "A = {\"Python\", \"R\", \"SQL\", \"Java\"}\n",
    "B = {\"C++\", \"Python\", \"JavaScript\", \"SQL\"}\n",
    "• Ortak dilleri bulun.\n",
    "• Sadece A’da olan dilleri listeleyin.\n",
    "• İki kümenin birleşimini alfabetik olarak yazdırın."
   ]
  },
  {
   "cell_type": "code",
   "execution_count": 56,
   "id": "ad4bcad0-97f8-48c8-a353-7c84d1abe038",
   "metadata": {},
   "outputs": [
    {
     "name": "stdout",
     "output_type": "stream",
     "text": [
      "['C++', 'Java', 'JavaScript', 'Python', 'R', 'SQL']\n"
     ]
    }
   ],
   "source": [
    "A = {\"Python\", \"R\", \"SQL\", \"Java\"} \n",
    "B = {\"C++\", \"Python\", \"JavaScript\", \"SQL\"}\n",
    "ortak_diller = []\n",
    "only_A = []\n",
    "for lang in A:\n",
    "    if lang in B:\n",
    "        ortak_diller.append(lang)\n",
    "    else:\n",
    "        only_A.append(lang)\n",
    "tum_kume =set( only_A + ortak_diller + list(B))\n",
    "tum_kume_sıralı = sorted(tum_kume)\n",
    "print(tum_kume_sıralı)"
   ]
  },
  {
   "cell_type": "markdown",
   "id": "32fae578-291f-419d-a01c-7b9de5fd2f70",
   "metadata": {},
   "source": [
    "Soru 4 – Modüller\n",
    "• random modülünü kullanarak 1–100 arasında 10 rastgele sayı üretin.\n",
    "• Bu sayıların ortalamasını ve standart sapmasını statistics modülü ile hesaplayın."
   ]
  },
  {
   "cell_type": "code",
   "execution_count": 26,
   "id": "2d3bdc9d-070b-4b0c-8b85-b8877ebb929e",
   "metadata": {},
   "outputs": [
    {
     "name": "stdout",
     "output_type": "stream",
     "text": [
      "[26, 80, 100, 52, 70, 97, 48, 5, 63, 62]\n",
      "60.3\n",
      "29.571194692733595\n"
     ]
    }
   ],
   "source": [
    "import random\n",
    "import statistics\n",
    "sayilar=[]\n",
    "for i in range(10):\n",
    "    sayilar.append(random.randint(1,101))\n",
    "print(sayilar)\n",
    "print(statistics.mean(sayilar))\n",
    "print(statistics.stdev(sayilar))"
   ]
  },
  {
   "cell_type": "markdown",
   "id": "d7694636-2868-4064-9366-91e41199371e",
   "metadata": {},
   "source": [
    "Soru 5 – Fonksiyonlar\n",
    "kelime_sayacı(metin) adında bir fonksiyon yazın.\n",
    "Fonksiyon verilen metindeki:\n",
    "• toplam kelime sayısını\n",
    "• en uzun kelimeyi\n",
    "• en sık geçen kelimeyi döndürsün."
   ]
  },
  {
   "cell_type": "code",
   "execution_count": 39,
   "id": "4bb67ab6-4509-4cce-9962-b2297353ccde",
   "metadata": {},
   "outputs": [],
   "source": [
    "def kelime_sayaci(metin):\n",
    "    toplam_kelime = len(metin.split())\n",
    "    max_sabit = 0\n",
    "    sik_sabit = 0\n",
    "    en_sik_kelime = \"\"\n",
    "    en_uzun_kelime = \"\"\n",
    "    for i in metin.split():\n",
    "        if len(i) > max_sabit:\n",
    "            max_sabit= len(i)\n",
    "            en_uzun_kelime = i\n",
    "    for j in metin.split():\n",
    "        if metin.split().count(j) > sik_sabit:\n",
    "            sik_sabit= metin.split().count(j)\n",
    "            en_sik_kelime = j\n",
    "            \n",
    "    return toplam_kelime, en_sik_kelime,en_uzun_kelime"
   ]
  },
  {
   "cell_type": "code",
   "execution_count": 41,
   "id": "f41586f9-cefe-4c65-a6b5-cfb5743ce9ee",
   "metadata": {},
   "outputs": [
    {
     "name": "stdout",
     "output_type": "stream",
     "text": [
      "Bu metinde toplam 10 tane kelime var, en uzun kelimesi çalışmakla,en sık geçen kelime ise Emir\n"
     ]
    }
   ],
   "source": [
    "toplam_kelime, en_sik_kelime,en_uzun_kelime = kelime_sayaci(\"Emir bugünü kodlama çalışmakla geçirdi. Emir bugün filme gitti. Emir.\")\n",
    "print(f\"Bu metinde toplam {toplam_kelime} tane kelime var, en uzun kelimesi {en_uzun_kelime},en sık geçen kelime ise {en_sik_kelime}\")"
   ]
  },
  {
   "cell_type": "markdown",
   "id": "dcbc46ed-ff51-49a8-a2ac-edf75e214942",
   "metadata": {},
   "source": [
    "Soru 6 – Gömülü Fonksiyonlar\n",
    "Aşağıdaki liste için map, filter, sorted gibi gömülü fonksiyonları kullanarak:\n",
    "sayilar = [5, 12, 7, 18, 24, 3, 16]\n",
    "• Sadece çift sayıları filtreleyin.\n",
    "• Bu sayıların karelerini bulun.\n",
    "• Karelerini azalan sırada sıralayın."
   ]
  },
  {
   "cell_type": "code",
   "execution_count": 2,
   "id": "4d0be1d7-6aed-4ab5-84cf-084a28bcbd99",
   "metadata": {},
   "outputs": [
    {
     "name": "stdout",
     "output_type": "stream",
     "text": [
      "[144, 256, 324, 576]\n"
     ]
    }
   ],
   "source": [
    "sayilar = [5, 12, 7, 18, 24, 3, 16]\n",
    "ciftler = filter(lambda x: x%2==0, sayilar)\n",
    "kareler = map(lambda x: x**2, ciftler )\n",
    "sirali_kareler = sorted(kareler)\n",
    "print(sirali_kareler)"
   ]
  },
  {
   "cell_type": "markdown",
   "id": "96871263-bdfb-4f4b-82b8-fcbadce301d2",
   "metadata": {},
   "source": [
    "Soru 7 – Lambda İfadeleri\n",
    "Aşağıdaki listeyi, her kelimenin uzunluğuna göre küçükten büyüğe sıralayın.\n",
    "kelimeler = [\"veri\", \"bilim\", \"analiz\", \"yapayzeka\", \"python\"]\n",
    "Bunu sorted + lambda ile yapın"
   ]
  },
  {
   "cell_type": "code",
   "execution_count": 38,
   "id": "185bb187-0827-4620-8dec-ba1420c92485",
   "metadata": {},
   "outputs": [
    {
     "name": "stdout",
     "output_type": "stream",
     "text": [
      "['veri', 'bilim', 'analiz', 'python', 'yapayzeka']\n"
     ]
    }
   ],
   "source": [
    "kelimeler = [\"veri\", \"bilim\", \"analiz\", \"yapayzeka\", \"python\"]\n",
    "dict_kelimeler = {}\n",
    "for i in kelimeler: \n",
    "    dict_kelimeler[i] = len(i)\n",
    "sirali = dict(sorted(dict_kelimeler.items(),key=lambda x: x[1]))\n",
    "kelimeler_sirali = list(sirali.keys())\n",
    "print(kelimeler_sirali)"
   ]
  },
  {
   "cell_type": "markdown",
   "id": "b60944f1-8df2-4fe0-a895-6df87f070ed1",
   "metadata": {},
   "source": [
    "Soru 8 – Metodlar\n",
    "Bir string içinde geçen tüm rakamları bulun ve bunların toplamını döndüren bir fonksiyon\n",
    "yazın.\n",
    "Örn: \"abc12def3\" → 12 + 3 = 15"
   ]
  },
  {
   "cell_type": "code",
   "execution_count": 65,
   "id": "4c4bd403-4303-412e-b8db-19f8901e5e77",
   "metadata": {},
   "outputs": [
    {
     "name": "stdout",
     "output_type": "stream",
     "text": [
      "15\n"
     ]
    }
   ],
   "source": [
    "string = \"abc12def3\"\n",
    "gecici= \"\"\n",
    "toplam=0\n",
    "for i in range(len(string)):\n",
    "    if string[i].isdigit():\n",
    "        gecici += string[i]\n",
    "    else:\n",
    "         if gecici != \"\":   \n",
    "            toplam+= int(gecici)\n",
    "            gecici=\"\"\n",
    "if gecici != \"\":\n",
    "    toplam += int(gecici)\n",
    "\n",
    "print(toplam)\n",
    "    "
   ]
  },
  {
   "cell_type": "markdown",
   "id": "b4347067-c501-41d6-8242-950090136a74",
   "metadata": {},
   "source": [
    "Soru 9 – (Ekstra) Numpy 1\n",
    "10 elemanlı bir numpy dizisi oluşturun.\n",
    "• Elemanlar 0–50 arasında rastgele sayılar olsun.\n",
    "• Dizinin ortalamasını, standart sapmasını ve en büyük değerini bulun."
   ]
  },
  {
   "cell_type": "code",
   "execution_count": 12,
   "id": "2807e602-171e-485b-be76-fcd8c84df2e7",
   "metadata": {},
   "outputs": [
    {
     "name": "stdout",
     "output_type": "stream",
     "text": [
      "Numpy Dizisi [10 31 32 29 36 20 50  0 18 35], Ortalaması 26.1, Standard Sapması 13.634148304899725, Max Değeri 50\n"
     ]
    }
   ],
   "source": [
    "import numpy as np\n",
    "import random\n",
    "np_dizisi = np.random.randint(0,51,10)\n",
    "np_ortalama = np.mean(np_dizisi)\n",
    "np_stdev = np.std(np_dizisi)\n",
    "np_max= np.amax(np_dizisi)\n",
    "print(f\"Numpy Dizisi {np_dizisi}, Ortalaması {np_ortalama}, Standard Sapması {np_stdev}, Max Değeri {np_max}\")"
   ]
  },
  {
   "cell_type": "markdown",
   "id": "447b11c5-6c29-437e-9e21-a7c71cac78f5",
   "metadata": {},
   "source": [
    "Soru 10 – (Ekstra) Numpy 2\n",
    "5x5 boyutunda rastgele 0–1 arasında değerlerden oluşan bir numpy matrisi üretin.\n",
    "• Her sütunun ortalamasını bulun.\n",
    "• 0.5’ten büyük olan değerleri 1, küçük eşit olanları 0 yaparak binary matris oluşturun."
   ]
  },
  {
   "cell_type": "code",
   "execution_count": 55,
   "id": "3a405db3-5863-4786-a12f-86cb6fcfb839",
   "metadata": {},
   "outputs": [
    {
     "name": "stdout",
     "output_type": "stream",
     "text": [
      "[0.3332615  0.61790247 0.19284178 0.58583435 0.5586843 ]\n",
      "[[1 0 1 0 0]\n",
      " [1 0 1 1 1]\n",
      " [0 0 0 0 0]\n",
      " [1 0 0 1 1]\n",
      " [0 0 1 1 1]]\n"
     ]
    }
   ],
   "source": [
    "array_np = np.random.random((5,5))\n",
    "ortalama_sutun = np.mean(array_np,axis=1)\n",
    "yuvarlanmıs = np.round(array_np).astype(int)\n",
    "print(ortalama_sutun)\n",
    "print(yuvarlanmıs)"
   ]
  }
 ],
 "metadata": {
  "kernelspec": {
   "display_name": "Python 3 (ipykernel)",
   "language": "python",
   "name": "python3"
  },
  "language_info": {
   "codemirror_mode": {
    "name": "ipython",
    "version": 3
   },
   "file_extension": ".py",
   "mimetype": "text/x-python",
   "name": "python",
   "nbconvert_exporter": "python",
   "pygments_lexer": "ipython3",
   "version": "3.12.7"
  }
 },
 "nbformat": 4,
 "nbformat_minor": 5
}
