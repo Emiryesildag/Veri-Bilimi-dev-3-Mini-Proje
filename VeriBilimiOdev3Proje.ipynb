{
 "cells": [
  {
   "cell_type": "markdown",
   "id": "9eb642ea-8378-44c4-ae54-845295e9bb6e",
   "metadata": {},
   "source": [
    "Proje – “Kitap Satış Analiz Sistemi”\n",
    "Bir yayınevinin farklı türlerde ve yazarlarda kitapları var. Örnek veri:\n",
    "kitaplar = [\n",
    " {\"isim\": \"Veri Bilimi 101\", \"yazar\": \"Ali\", \"tur\": \"Bilim\", \"satis\": 1200, \"yil\": 2021},\n",
    " {\"isim\": \"Python ile Yapay Zeka\", \"yazar\": \"Ayşe\", \"tur\": \"Bilim\", \"satis\": 950, \"yil\":\n",
    "2020},\n",
    " {\"isim\": \"İstatistik Temelleri\", \"yazar\": \"Ali\", \"tur\": \"Akademik\", \"satis\": 700, \"yil\": 2019},\n",
    " {\"isim\": \"Makine Öğrenmesi\", \"yazar\": \"Can\", \"tur\": \"Bilim\", \"satis\": 1800, \"yil\": 2022},\n",
    " {\"isim\": \"Veri Görselleştirme\", \"yazar\": \"Deniz\", \"tur\": \"Sanat\", \"satis\": 400, \"yil\": 2018},\n",
    " {\"isim\": \"Matematiksel Modelleme\", \"yazar\": \"Ali\", \"tur\": \"Akademik\", \"satis\": 1500,\n",
    "\"yil\": 2021},\n",
    " {\"isim\": \"Bilgi Toplumu\", \"yazar\": \"Ayşe\", \"tur\": \"Sosyal\", \"satis\": 600, \"yil\": 2022}\n",
    "]\n",
    "Yapılması Gerekenler:\n",
    "1. Fonksiyon Yazma:\n",
    "o en_cok_satan(kitaplar) → En çok satan kitabın bilgilerini döndürsün.\n",
    "o yazar_satislari(kitaplar) → Her yazarın toplam satışını bir sözlük olarak\n",
    "döndürsün.\n",
    "2. Liste ve Küme İşlemleri:\n",
    "o Tüm kitap türlerini (tur) küme halinde çıkarın (tekrar eden türler olmadan).\n",
    "o Satış adedi 1000’den fazla olan kitapların isimlerini bir listede toplayın.\n",
    "3. Lambda / Filter / Map Kullanımı:\n",
    "o filter ile 2020’den sonra çıkan kitapları süzün.\n",
    "o map ile tüm satış adetlerini %10 artırılmış şekilde yeni bir listeye aktarın.\n",
    "o sorted + lambda ile kitapları satış miktarına göre azalan şekilde sıralayın.\n",
    "4. İstatistiksel Analiz:\n",
    "o Ortalama satış adedini bulun.\n",
    "o En çok satış yapan türü bulun.\n",
    "o Satışların standart sapmasını hesaplamak için statistics modülünü kullanın.\n",
    "5. Ekstra (Zorlayıcı): Train/Test Simülasyonu\n",
    "o Kitap listesini rastgele %70 eğitim (train), %30 test verisine ayırın\n",
    "(random.sample).\n",
    "o Eğitim verisinden yazarların ortalama satışını hesaplayın.\n",
    "o Test verisinde, hangi kitapların satışlarının bu ortalamanın üzerinde olduğunu\n",
    "kontrol edin.\n",
    "Beklenen Çıktı Örneği\n",
    "• En çok satan kitap: \"Makine Öğrenmesi\"\n",
    "• Yazar satışları: {\"Ali\": 3400, \"Ayşe\": 1550, \"Can\": 1800, \"Deniz\": 400}\n",
    "• Türler: {\"Bilim\", \"Akademik\", \"Sanat\", \"Sosyal\"}\n",
    "• 1000’den fazla satan kitaplar: [\"Veri Bilimi 101\", \"Makine Öğrenmesi\",\n",
    "\"Matematiksel Modelleme\"]\n",
    "• Ortalama satış: 1021.4\n",
    "• Standart sapma: ~480.2\n",
    "• Eğitim/ Test ayırımı sonrası analiz:\n",
    "Analizde Sizden Beklenen:\n",
    "• Veriyi uygun oranlarda ayırın (örneğin %70 train, %30 test).\n",
    "• Train seti üzerinde basit analizler yapın (ortalama, sıklık, vs.).\n",
    "• Test seti üzerinde aynı analizleri tekrarlayın.\n",
    "• Sonuçları karşılaştırın ve kısa yorum ekleyin.\n",
    " Teslim Şekli ve Kurallar:\n",
    "• Tüm sorular tek bir .ipynb (Jupyter Notebook) dosyasında çözülecek.\n",
    "• Proje ödevi ayrı bir python projesi olarak çözülecek.\n",
    "• Tüm ödev tek bir repository de toplanacak ve githuba public olarak yüklenilecek.\n",
    "• Github bağlantısı eğitmenlere istenilen şekilde iletilecek."
   ]
  },
  {
   "cell_type": "code",
   "execution_count": 1,
   "id": "885d5c3f-7feb-4ce5-b5bb-c4d40cc739f2",
   "metadata": {},
   "outputs": [],
   "source": [
    "kitaplar = [\n",
    " {\"isim\": \"Veri Bilimi 101\", \"yazar\": \"Ali\", \"tur\": \"Bilim\", \"satis\": 1200, \"yil\": 2021},\n",
    " {\"isim\": \"Python ile Yapay Zeka\", \"yazar\": \"Ayşe\", \"tur\": \"Bilim\", \"satis\": 950, \"yil\":\n",
    "2020},\n",
    " {\"isim\": \"İstatistik Temelleri\", \"yazar\": \"Ali\", \"tur\": \"Akademik\", \"satis\": 700, \"yil\": 2019},\n",
    " {\"isim\": \"Makine Öğrenmesi\", \"yazar\": \"Can\", \"tur\": \"Bilim\", \"satis\": 1800, \"yil\": 2022},\n",
    " {\"isim\": \"Veri Görselleştirme\", \"yazar\": \"Deniz\", \"tur\": \"Sanat\", \"satis\": 400, \"yil\": 2018},\n",
    " {\"isim\": \"Matematiksel Modelleme\", \"yazar\": \"Ali\", \"tur\": \"Akademik\", \"satis\": 1500,\n",
    "\"yil\": 2021},\n",
    " {\"isim\": \"Bilgi Toplumu\", \"yazar\": \"Ayşe\", \"tur\": \"Sosyal\", \"satis\": 600, \"yil\": 2022}\n",
    "]\n"
   ]
  },
  {
   "cell_type": "code",
   "execution_count": 4,
   "id": "efdcfb72-a4c1-405f-93d2-0f9ec80b9a72",
   "metadata": {},
   "outputs": [
    {
     "data": {
      "text/plain": [
       "{'isim': 'Makine Öğrenmesi',\n",
       " 'yazar': 'Can',\n",
       " 'tur': 'Bilim',\n",
       " 'satis': 1800,\n",
       " 'yil': 2022}"
      ]
     },
     "execution_count": 4,
     "metadata": {},
     "output_type": "execute_result"
    }
   ],
   "source": [
    "def en_cok_satanlar(kitaplar):\n",
    "    return max(kitaplar,key=lambda x: x[\"satis\"])\n",
    "en_cok_satanlar(kitaplar)"
   ]
  },
  {
   "cell_type": "code",
   "execution_count": 121,
   "id": "3cc86198-5617-4451-a304-fe0f083eac50",
   "metadata": {},
   "outputs": [
    {
     "name": "stdout",
     "output_type": "stream",
     "text": [
      "{'Ali': 3400, 'Ayşe': 1550, 'Can': 1800, 'Deniz': 400}\n"
     ]
    }
   ],
   "source": [
    "def yazar_satislari(kitaplar):\n",
    "    yazar_satis = {}\n",
    "    for i in kitaplar:\n",
    "        if i[\"yazar\"] not in yazar_satis:\n",
    "            yazar_satis[i[\"yazar\"]] = i[\"satis\"]\n",
    "        else:\n",
    "            yazar_satis[i[\"yazar\"]] += i[\"satis\"]\n",
    "    return yazar_satis\n",
    "print(yazar_satislari(kitaplar))"
   ]
  },
  {
   "cell_type": "code",
   "execution_count": 24,
   "id": "f5accd74-ea50-417c-8a98-05bf698215a1",
   "metadata": {},
   "outputs": [
    {
     "name": "stdout",
     "output_type": "stream",
     "text": [
      " Türler {'Sanat', 'Akademik', 'Sosyal', 'Bilim'} \n",
      " Satışı 1000'in üstündekiler ['Veri Bilimi 101', 'Makine Öğrenmesi', 'Matematiksel Modelleme']\n"
     ]
    }
   ],
   "source": [
    "turler = {i[\"tur\"] for i in kitaplar}\n",
    "satis_1000 = [i[\"isim\"] for i in kitaplar if i[\"satis\"]>1000]\n",
    "print(f\" Türler {turler}\",\"\\n\", f\"Satışı 1000'in üstündekiler {satis_1000}\")"
   ]
  },
  {
   "cell_type": "code",
   "execution_count": 58,
   "id": "d3ba93f0-2d17-46e4-b4a9-788b88a9ec7d",
   "metadata": {},
   "outputs": [
    {
     "name": "stdout",
     "output_type": "stream",
     "text": [
      "2020 Yılında Sonra Çıkmış Kitaplar\n",
      "- Veri Bilimi 101           Yıl:  2021.00\n",
      "- Makine Öğrenmesi          Yıl:  2022.00\n",
      "- Matematiksel Modelleme    Yıl:  2021.00\n",
      "- Bilgi Toplumu             Yıl:  2022.00\n",
      "Satışı %10 Artmış Olanlar\n",
      "- Veri Bilimi 101           Satış:  1320.00\n",
      "- Python ile Yapay Zeka     Satış:  1045.00\n",
      "- İstatistik Temelleri      Satış:   770.00\n",
      "- Makine Öğrenmesi          Satış:  1980.00\n",
      "- Veri Görselleştirme       Satış:   440.00\n",
      "- Matematiksel Modelleme    Satış:  1650.00\n",
      "- Bilgi Toplumu             Satış:   660.00\n",
      "Satışa göre sıralı kitaplar\n",
      "- Makine Öğrenmesi          Satış:  1800.00\n",
      "- Matematiksel Modelleme    Satış:  1500.00\n",
      "- Veri Bilimi 101           Satış:  1200.00\n",
      "- Python ile Yapay Zeka     Satış:   950.00\n",
      "- İstatistik Temelleri      Satış:   700.00\n",
      "- Bilgi Toplumu             Satış:   600.00\n",
      "- Veri Görselleştirme       Satış:   400.00\n"
     ]
    }
   ],
   "source": [
    "kitap_2020_sonrasi = list(filter(lambda x : x[\"yil\"]>2020, kitaplar))\n",
    "print(\"2020 Yılında Sonra Çıkmış Kitaplar\")\n",
    "for i in kitap_2020_sonrasi:\n",
    "    print(\"-\",f\"{i[\"isim\"]: <25} Yıl: {i[\"yil\"]: > 8.2f}\",end = \"\\n\")\n",
    "adet_10_arti = list(map(lambda x : {\"isim\": x[\"isim\"], \"satis\" : x[\"satis\"]*(11/10)},kitaplar))\n",
    "print(\"Satışı %10 Artmış Olanlar\")\n",
    "for k in adet_10_arti:\n",
    "    print(\"-\",f\"{k['isim']:<25} Satış: {k['satis']:>8.2f}\")\n",
    "siralanmis = sorted(kitaplar, key = lambda x : x[\"satis\"], reverse = True)\n",
    "print(\"Satışa göre sıralı kitaplar\")\n",
    "for j in siralanmis:\n",
    "    print(\"-\",f\"{j[\"isim\"]: <25} Satış: {j[\"satis\"]:>8.2f}\")\n"
   ]
  },
  {
   "cell_type": "code",
   "execution_count": 71,
   "id": "1eb372ed-a2dd-4ac6-b45b-3d6994a73343",
   "metadata": {},
   "outputs": [
    {
     "data": {
      "text/plain": [
       "1021.4285714285714"
      ]
     },
     "execution_count": 71,
     "metadata": {},
     "output_type": "execute_result"
    }
   ],
   "source": [
    "import numpy as np \n",
    "satis_sayilari = [k[\"satis\"] for k in kitaplar]\n",
    "np.mean(satis_sayilari)\n",
    "#ortalama"
   ]
  },
  {
   "cell_type": "code",
   "execution_count": 87,
   "id": "6cf3d01e-a247-4042-8c4e-2807d309e497",
   "metadata": {},
   "outputs": [
    {
     "name": "stdout",
     "output_type": "stream",
     "text": [
      "{'Bilim': 3950, 'Akademik': 2200, 'Sanat': 400, 'Sosyal': 600}\n",
      "Bilim\n"
     ]
    }
   ],
   "source": [
    "tur_satis = {}\n",
    "for s in kitaplar:\n",
    "    if s[\"tur\"] not in tur_satis:  \n",
    "        tur_satis[s[\"tur\"]] = s[\"satis\"]\n",
    "    else:\n",
    "        tur_satis[s[\"tur\"]] += s[\"satis\"]\n",
    "print(tur_satis)\n",
    "print(max(tur_satis, key = lambda x : tur_satis[x])) # x burada keys listesinin uyelerini kapsıyor [bilim,akademik,sanat,sosyal]\n",
    "#Max satış adedi"
   ]
  },
  {
   "cell_type": "code",
   "execution_count": 88,
   "id": "aef25221-52a6-480c-b4fb-73cff6d99839",
   "metadata": {},
   "outputs": [
    {
     "name": "stdout",
     "output_type": "stream",
     "text": [
      "1651.4513818658625\n"
     ]
    }
   ],
   "source": [
    "import statistics\n",
    "print(statistics.stdev(list(tur_satis.values()))) #Standart Sapma"
   ]
  },
  {
   "cell_type": "code",
   "execution_count": 140,
   "id": "b874c86c-21f2-4234-a0d6-84a02649a8fd",
   "metadata": {},
   "outputs": [
    {
     "name": "stdout",
     "output_type": "stream",
     "text": [
      "Yazarların Ortalama Satışı 1366.6666666666667\n"
     ]
    }
   ],
   "source": [
    "import random\n",
    "train_set = random.sample(kitaplar,int(len(kitaplar)*0.7)) #kumeden train icin rastgele %70 oranlı değer secer.\n",
    "test_set = [x for x in kitaplar if x not in train_set] #train set disindaki degerleri alır.\n",
    "yazar_dict = yazar_satislari(train_set)\n",
    "train_ortalama = np.mean(list(yazar_dict.values()))\n",
    "print(f\"Yazarların Ortalama Satışı {train_ortalama}\")"
   ]
  },
  {
   "cell_type": "code",
   "execution_count": 137,
   "id": "90540712-8459-4b14-8d37-576c32f28a4f",
   "metadata": {},
   "outputs": [
    {
     "name": "stdout",
     "output_type": "stream",
     "text": [
      "['Matematiksel Modelleme']\n"
     ]
    }
   ],
   "source": [
    "test_trainden_buyuk = []\n",
    "for test in test_set:\n",
    "    if test[\"satis\"] > train_ortalama:\n",
    "        test_trainden_buyuk.append(test[\"isim\"])\n",
    "print(test_trainden_buyuk)"
   ]
  },
  {
   "cell_type": "code",
   "execution_count": null,
   "id": "fe29df0a-1b9b-4f9b-92ff-334726598749",
   "metadata": {},
   "outputs": [],
   "source": []
  }
 ],
 "metadata": {
  "kernelspec": {
   "display_name": "Python 3 (ipykernel)",
   "language": "python",
   "name": "python3"
  },
  "language_info": {
   "codemirror_mode": {
    "name": "ipython",
    "version": 3
   },
   "file_extension": ".py",
   "mimetype": "text/x-python",
   "name": "python",
   "nbconvert_exporter": "python",
   "pygments_lexer": "ipython3",
   "version": "3.12.7"
  }
 },
 "nbformat": 4,
 "nbformat_minor": 5
}
